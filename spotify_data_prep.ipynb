{
 "cells": [
  {
   "cell_type": "code",
   "execution_count": 1,
   "metadata": {},
   "outputs": [],
   "source": [
    "import pandas as pd\n",
    "import spotipy\n",
    "import spotipy.util as util\n",
    "import sys\n",
    "sys.path.append('data/')\n",
    "from spotify_client_details import *"
   ]
  },
  {
   "cell_type": "code",
   "execution_count": 2,
   "metadata": {},
   "outputs": [],
   "source": [
    "spotify_raw = pd.read_json('data/StreamingHistory0.json')"
   ]
  },
  {
   "cell_type": "code",
   "execution_count": 3,
   "metadata": {
    "scrolled": true
   },
   "outputs": [],
   "source": [
    "songs = spotify_raw[['artistName','trackName']].drop_duplicates()\n",
    "songs1 = songs.head(50)"
   ]
  },
  {
   "cell_type": "code",
   "execution_count": 4,
   "metadata": {},
   "outputs": [],
   "source": [
    "from spotipy.oauth2 import SpotifyOAuth\n",
    "scope = \"user-library-read\"\n",
    "\n",
    "sp = spotipy.Spotify(auth_manager=SpotifyOAuth(scope=scope, client_id=CLIENT_ID, \n",
    "                                               client_secret=CLIENT_SECRET, redirect_uri='http://localhost/'))\n"
   ]
  },
  {
   "cell_type": "code",
   "execution_count": 5,
   "metadata": {},
   "outputs": [
    {
     "name": "stdout",
     "output_type": "stream",
     "text": [
      "CPU times: user 0 ns, sys: 0 ns, total: 0 ns\n",
      "Wall time: 11.2 µs\n"
     ]
    }
   ],
   "source": [
    "%time\n",
    "artist = 'Tame Impala'\n",
    "track = \"Solitude is Bliss\"\n",
    "\n",
    "a = sp.search(q=artist + ' ' + track)"
   ]
  },
  {
   "cell_type": "code",
   "execution_count": 6,
   "metadata": {},
   "outputs": [
    {
     "name": "stdout",
     "output_type": "stream",
     "text": [
      "{'album': {'album_type': 'album', 'artists': [{'external_urls': {'spotify': 'https://open.spotify.com/artist/5INjqkS1o8h1imAzPqGZBb'}, 'href': 'https://api.spotify.com/v1/artists/5INjqkS1o8h1imAzPqGZBb', 'id': '5INjqkS1o8h1imAzPqGZBb', 'name': 'Tame Impala', 'type': 'artist', 'uri': 'spotify:artist:5INjqkS1o8h1imAzPqGZBb'}], 'available_markets': ['AD', 'AE', 'AG', 'AL', 'AM', 'AO', 'AR', 'AT', 'AU', 'AZ', 'BA', 'BB', 'BD', 'BE', 'BF', 'BG', 'BH', 'BI', 'BJ', 'BN', 'BO', 'BR', 'BS', 'BT', 'BW', 'BY', 'BZ', 'CA', 'CH', 'CI', 'CL', 'CM', 'CO', 'CR', 'CV', 'CW', 'CY', 'CZ', 'DE', 'DJ', 'DK', 'DM', 'DO', 'DZ', 'EC', 'EE', 'EG', 'ES', 'FI', 'FJ', 'FM', 'FR', 'GA', 'GB', 'GD', 'GE', 'GH', 'GM', 'GN', 'GQ', 'GR', 'GT', 'GW', 'GY', 'HK', 'HN', 'HR', 'HT', 'HU', 'ID', 'IE', 'IL', 'IN', 'IS', 'IT', 'JM', 'JO', 'JP', 'KE', 'KG', 'KH', 'KI', 'KM', 'KN', 'KR', 'KW', 'KZ', 'LA', 'LB', 'LC', 'LI', 'LK', 'LR', 'LS', 'LT', 'LU', 'LV', 'MA', 'MC', 'MD', 'ME', 'MG', 'MH', 'MK', 'ML', 'MN', 'MO', 'MR', 'MT', 'MU', 'MV', 'MW', 'MX', 'MY', 'MZ', 'NA', 'NE', 'NG', 'NI', 'NL', 'NO', 'NP', 'NR', 'NZ', 'OM', 'PA', 'PE', 'PG', 'PH', 'PK', 'PL', 'PS', 'PT', 'PW', 'PY', 'QA', 'RO', 'RS', 'RU', 'RW', 'SA', 'SB', 'SC', 'SE', 'SG', 'SI', 'SK', 'SL', 'SM', 'SN', 'SR', 'ST', 'SV', 'SZ', 'TD', 'TG', 'TH', 'TL', 'TN', 'TO', 'TR', 'TT', 'TV', 'TW', 'TZ', 'UA', 'UG', 'US', 'UY', 'UZ', 'VC', 'VN', 'VU', 'WS', 'XK', 'ZA', 'ZM', 'ZW'], 'external_urls': {'spotify': 'https://open.spotify.com/album/1DNSmmRLfv97Yjq7MTFWng'}, 'href': 'https://api.spotify.com/v1/albums/1DNSmmRLfv97Yjq7MTFWng', 'id': '1DNSmmRLfv97Yjq7MTFWng', 'images': [{'height': 640, 'url': 'https://i.scdn.co/image/ab67616d0000b273176e82d09ac75d62810f0056', 'width': 640}, {'height': 300, 'url': 'https://i.scdn.co/image/ab67616d00001e02176e82d09ac75d62810f0056', 'width': 300}, {'height': 64, 'url': 'https://i.scdn.co/image/ab67616d00004851176e82d09ac75d62810f0056', 'width': 64}], 'name': 'InnerSpeaker', 'release_date': '2010-05-21', 'release_date_precision': 'day', 'total_tracks': 11, 'type': 'album', 'uri': 'spotify:album:1DNSmmRLfv97Yjq7MTFWng'}, 'artists': [{'external_urls': {'spotify': 'https://open.spotify.com/artist/5INjqkS1o8h1imAzPqGZBb'}, 'href': 'https://api.spotify.com/v1/artists/5INjqkS1o8h1imAzPqGZBb', 'id': '5INjqkS1o8h1imAzPqGZBb', 'name': 'Tame Impala', 'type': 'artist', 'uri': 'spotify:artist:5INjqkS1o8h1imAzPqGZBb'}], 'available_markets': ['AD', 'AE', 'AG', 'AL', 'AM', 'AO', 'AR', 'AT', 'AU', 'AZ', 'BA', 'BB', 'BD', 'BE', 'BF', 'BG', 'BH', 'BI', 'BJ', 'BN', 'BO', 'BR', 'BS', 'BT', 'BW', 'BY', 'BZ', 'CA', 'CH', 'CI', 'CL', 'CM', 'CO', 'CR', 'CV', 'CW', 'CY', 'CZ', 'DE', 'DJ', 'DK', 'DM', 'DO', 'DZ', 'EC', 'EE', 'EG', 'ES', 'FI', 'FJ', 'FM', 'FR', 'GA', 'GB', 'GD', 'GE', 'GH', 'GM', 'GN', 'GQ', 'GR', 'GT', 'GW', 'GY', 'HK', 'HN', 'HR', 'HT', 'HU', 'ID', 'IE', 'IL', 'IN', 'IS', 'IT', 'JM', 'JO', 'JP', 'KE', 'KG', 'KH', 'KI', 'KM', 'KN', 'KR', 'KW', 'KZ', 'LA', 'LB', 'LC', 'LI', 'LK', 'LR', 'LS', 'LT', 'LU', 'LV', 'MA', 'MC', 'MD', 'ME', 'MG', 'MH', 'MK', 'ML', 'MN', 'MO', 'MR', 'MT', 'MU', 'MV', 'MW', 'MX', 'MY', 'MZ', 'NA', 'NE', 'NG', 'NI', 'NL', 'NO', 'NP', 'NR', 'NZ', 'OM', 'PA', 'PE', 'PG', 'PH', 'PK', 'PL', 'PS', 'PT', 'PW', 'PY', 'QA', 'RO', 'RS', 'RU', 'RW', 'SA', 'SB', 'SC', 'SE', 'SG', 'SI', 'SK', 'SL', 'SM', 'SN', 'SR', 'ST', 'SV', 'SZ', 'TD', 'TG', 'TH', 'TL', 'TN', 'TO', 'TR', 'TT', 'TV', 'TW', 'TZ', 'UA', 'UG', 'US', 'UY', 'UZ', 'VC', 'VN', 'VU', 'WS', 'XK', 'ZA', 'ZM', 'ZW'], 'disc_number': 1, 'duration_ms': 235866, 'explicit': False, 'external_ids': {'isrc': 'AUUM71000136'}, 'external_urls': {'spotify': 'https://open.spotify.com/track/2a2MbiJN2skOxohykOVcss'}, 'href': 'https://api.spotify.com/v1/tracks/2a2MbiJN2skOxohykOVcss', 'id': '2a2MbiJN2skOxohykOVcss', 'is_local': False, 'name': 'Solitude Is Bliss', 'popularity': 53, 'preview_url': None, 'track_number': 6, 'type': 'track', 'uri': 'spotify:track:2a2MbiJN2skOxohykOVcss'} \n",
      "\n",
      "dict_keys(['album_type', 'artists', 'available_markets', 'external_urls', 'href', 'id', 'images', 'name', 'release_date', 'release_date_precision', 'total_tracks', 'type', 'uri'])\n",
      "album\n"
     ]
    }
   ],
   "source": [
    "print(a['tracks']['items'][0],'\\n')\n",
    "print(a['tracks']['items'][0]['album'].keys())\n",
    "print(a['tracks']['items'][0]['album']['album_type'])"
   ]
  },
  {
   "cell_type": "code",
   "execution_count": 9,
   "metadata": {},
   "outputs": [],
   "source": [
    "def albumName(artist,track):\n",
    "    song = sp.search(q='artist:{} track:{}'.format(artist, track))\n",
    "    if song['tracks']['items']==[]:\n",
    "        song = sp.search(q=artist + ' ' + track)\n",
    "    song = song['tracks']['items']\n",
    "    if song==[]:\n",
    "        return None, None, None, None, None, None\n",
    "    else:\n",
    "        return song[0]['album']['name'], song[0]['duration_ms'], song[0]['popularity'], song[0]['track_number'], song[0]['album']['total_tracks'], song[0]['album']['release_date']\n",
    "    "
   ]
  },
  {
   "cell_type": "code",
   "execution_count": 10,
   "metadata": {
    "scrolled": true
   },
   "outputs": [
    {
     "name": "stdout",
     "output_type": "stream",
     "text": [
      "CPU times: user 8.09 s, sys: 1.64 s, total: 9.73 s\n",
      "Wall time: 9min 28s\n"
     ]
    }
   ],
   "source": [
    "songs[['albumName','duration_ms','popularity','track_no','tracks_in_album','album_release_date']] = \\\n",
    "%time songs.apply(lambda row: albumName(row.artistName, row.trackName), axis=1,  result_type=\"expand\")"
   ]
  },
  {
   "cell_type": "code",
   "execution_count": 11,
   "metadata": {},
   "outputs": [],
   "source": [
    "spotify_full = spotify_raw.merge(songs,on=['artistName','trackName'])"
   ]
  },
  {
   "cell_type": "code",
   "execution_count": 12,
   "metadata": {},
   "outputs": [],
   "source": [
    "spotify_full.to_csv('data/song_features.csv')"
   ]
  },
  {
   "cell_type": "code",
   "execution_count": null,
   "metadata": {},
   "outputs": [],
   "source": []
  }
 ],
 "metadata": {
  "kernelspec": {
   "display_name": "Python 3",
   "language": "python",
   "name": "python3"
  },
  "language_info": {
   "codemirror_mode": {
    "name": "ipython",
    "version": 3
   },
   "file_extension": ".py",
   "mimetype": "text/x-python",
   "name": "python",
   "nbconvert_exporter": "python",
   "pygments_lexer": "ipython3",
   "version": "3.7.6"
  }
 },
 "nbformat": 4,
 "nbformat_minor": 4
}
